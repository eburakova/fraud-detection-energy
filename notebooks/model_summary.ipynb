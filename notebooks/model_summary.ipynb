{
 "cells": [
  {
   "cell_type": "markdown",
   "metadata": {},
   "source": [
    "# Comparison of all the obtained models\n",
    "\n",
    "This notebook containes evaluation of all models that were built in the project.\n",
    "\n",
    "|Model|Class|Recall|F1|Macro average|Features used|\n",
    "|--|--|--|--|--|--|\n",
    "|[baseline](models/baseline.py)||||\n",
    "|[logreg_full](models/logred_full.pkl)|Logistic regression||||Full set (but `client_id`and `creation_date`|\n",
    "|[random_forest](models/random_forest.pkl)|Random forest||||Full set (but `client_id` and `creation_date`|\n",
    "|[tree_gini](models/decision_tree_gini.pkl)|Decision tree|||| ....|\n",
    "|[knn](models/knn.pkl)|KNN||||`client_catg`,`region`, `total_consum_lvl<1-4>_mean`|\n",
    "|[xgb]()|XGBoost||||Full set without `client_id`and `creation_date` and consumption by month|"
   ]
  },
  {
   "cell_type": "markdown",
   "metadata": {},
   "source": [
    "## Imports"
   ]
  },
  {
   "cell_type": "code",
   "execution_count": 1,
   "metadata": {},
   "outputs": [],
   "source": [
    "import pandas as pd\n",
    "from sklearn.model_selection import train_test_split\n",
    "from pickle import load, dump\n",
    "\n",
    "from eval_metrics_katja import *"
   ]
  },
  {
   "cell_type": "markdown",
   "metadata": {},
   "source": [
    "Data"
   ]
  },
  {
   "cell_type": "code",
   "execution_count": 36,
   "metadata": {},
   "outputs": [
    {
     "data": {
      "text/html": [
       "<div>\n",
       "<style scoped>\n",
       "    .dataframe tbody tr th:only-of-type {\n",
       "        vertical-align: middle;\n",
       "    }\n",
       "\n",
       "    .dataframe tbody tr th {\n",
       "        vertical-align: top;\n",
       "    }\n",
       "\n",
       "    .dataframe thead th {\n",
       "        text-align: right;\n",
       "    }\n",
       "</style>\n",
       "<table border=\"1\" class=\"dataframe\">\n",
       "  <thead>\n",
       "    <tr style=\"text-align: right;\">\n",
       "      <th></th>\n",
       "      <th>district</th>\n",
       "      <th>client_id</th>\n",
       "      <th>client_catg</th>\n",
       "      <th>region</th>\n",
       "      <th>creation_date</th>\n",
       "      <th>target</th>\n",
       "      <th>acc_creation_year</th>\n",
       "      <th>acc_creation_month</th>\n",
       "      <th>acc_creation_weekday</th>\n",
       "      <th>total_consum_lvl1_mean</th>\n",
       "      <th>...</th>\n",
       "      <th>gaz_1_mon_3</th>\n",
       "      <th>gaz_1_mon_4</th>\n",
       "      <th>gaz_1_mon_5</th>\n",
       "      <th>gaz_1_mon_6</th>\n",
       "      <th>gaz_1_mon_7</th>\n",
       "      <th>gaz_1_mon_8</th>\n",
       "      <th>gaz_1_mon_9</th>\n",
       "      <th>gaz_1_mon_10</th>\n",
       "      <th>gaz_1_mon_11</th>\n",
       "      <th>gaz_1_mon_12</th>\n",
       "    </tr>\n",
       "  </thead>\n",
       "  <tbody>\n",
       "    <tr>\n",
       "      <th>0</th>\n",
       "      <td>60</td>\n",
       "      <td>0</td>\n",
       "      <td>11</td>\n",
       "      <td>101</td>\n",
       "      <td>1994-12-31</td>\n",
       "      <td>0.0</td>\n",
       "      <td>1994</td>\n",
       "      <td>12</td>\n",
       "      <td>5</td>\n",
       "      <td>352.400000</td>\n",
       "      <td>...</td>\n",
       "      <td>NaN</td>\n",
       "      <td>NaN</td>\n",
       "      <td>NaN</td>\n",
       "      <td>NaN</td>\n",
       "      <td>NaN</td>\n",
       "      <td>NaN</td>\n",
       "      <td>NaN</td>\n",
       "      <td>NaN</td>\n",
       "      <td>NaN</td>\n",
       "      <td>NaN</td>\n",
       "    </tr>\n",
       "    <tr>\n",
       "      <th>1</th>\n",
       "      <td>69</td>\n",
       "      <td>1</td>\n",
       "      <td>11</td>\n",
       "      <td>107</td>\n",
       "      <td>2002-05-29</td>\n",
       "      <td>0.0</td>\n",
       "      <td>2002</td>\n",
       "      <td>5</td>\n",
       "      <td>2</td>\n",
       "      <td>557.540541</td>\n",
       "      <td>...</td>\n",
       "      <td>NaN</td>\n",
       "      <td>NaN</td>\n",
       "      <td>NaN</td>\n",
       "      <td>NaN</td>\n",
       "      <td>NaN</td>\n",
       "      <td>NaN</td>\n",
       "      <td>NaN</td>\n",
       "      <td>NaN</td>\n",
       "      <td>NaN</td>\n",
       "      <td>NaN</td>\n",
       "    </tr>\n",
       "    <tr>\n",
       "      <th>2</th>\n",
       "      <td>62</td>\n",
       "      <td>10</td>\n",
       "      <td>11</td>\n",
       "      <td>301</td>\n",
       "      <td>1986-03-13</td>\n",
       "      <td>0.0</td>\n",
       "      <td>1986</td>\n",
       "      <td>3</td>\n",
       "      <td>3</td>\n",
       "      <td>798.611111</td>\n",
       "      <td>...</td>\n",
       "      <td>NaN</td>\n",
       "      <td>NaN</td>\n",
       "      <td>NaN</td>\n",
       "      <td>NaN</td>\n",
       "      <td>NaN</td>\n",
       "      <td>NaN</td>\n",
       "      <td>NaN</td>\n",
       "      <td>NaN</td>\n",
       "      <td>NaN</td>\n",
       "      <td>NaN</td>\n",
       "    </tr>\n",
       "    <tr>\n",
       "      <th>3</th>\n",
       "      <td>69</td>\n",
       "      <td>100</td>\n",
       "      <td>11</td>\n",
       "      <td>105</td>\n",
       "      <td>1996-07-11</td>\n",
       "      <td>0.0</td>\n",
       "      <td>1996</td>\n",
       "      <td>7</td>\n",
       "      <td>3</td>\n",
       "      <td>1.200000</td>\n",
       "      <td>...</td>\n",
       "      <td>NaN</td>\n",
       "      <td>NaN</td>\n",
       "      <td>NaN</td>\n",
       "      <td>NaN</td>\n",
       "      <td>NaN</td>\n",
       "      <td>NaN</td>\n",
       "      <td>NaN</td>\n",
       "      <td>NaN</td>\n",
       "      <td>NaN</td>\n",
       "      <td>NaN</td>\n",
       "    </tr>\n",
       "    <tr>\n",
       "      <th>4</th>\n",
       "      <td>62</td>\n",
       "      <td>1000</td>\n",
       "      <td>11</td>\n",
       "      <td>303</td>\n",
       "      <td>2014-10-14</td>\n",
       "      <td>0.0</td>\n",
       "      <td>2014</td>\n",
       "      <td>10</td>\n",
       "      <td>1</td>\n",
       "      <td>663.714286</td>\n",
       "      <td>...</td>\n",
       "      <td>NaN</td>\n",
       "      <td>NaN</td>\n",
       "      <td>NaN</td>\n",
       "      <td>NaN</td>\n",
       "      <td>NaN</td>\n",
       "      <td>NaN</td>\n",
       "      <td>NaN</td>\n",
       "      <td>NaN</td>\n",
       "      <td>NaN</td>\n",
       "      <td>NaN</td>\n",
       "    </tr>\n",
       "  </tbody>\n",
       "</table>\n",
       "<p>5 rows × 134 columns</p>\n",
       "</div>"
      ],
      "text/plain": [
       "   district  client_id  client_catg  region creation_date  target   \n",
       "0        60          0           11     101    1994-12-31     0.0  \\\n",
       "1        69          1           11     107    2002-05-29     0.0   \n",
       "2        62         10           11     301    1986-03-13     0.0   \n",
       "3        69        100           11     105    1996-07-11     0.0   \n",
       "4        62       1000           11     303    2014-10-14     0.0   \n",
       "\n",
       "   acc_creation_year  acc_creation_month  acc_creation_weekday   \n",
       "0               1994                  12                     5  \\\n",
       "1               2002                   5                     2   \n",
       "2               1986                   3                     3   \n",
       "3               1996                   7                     3   \n",
       "4               2014                  10                     1   \n",
       "\n",
       "   total_consum_lvl1_mean  ...  gaz_1_mon_3  gaz_1_mon_4  gaz_1_mon_5   \n",
       "0              352.400000  ...          NaN          NaN          NaN  \\\n",
       "1              557.540541  ...          NaN          NaN          NaN   \n",
       "2              798.611111  ...          NaN          NaN          NaN   \n",
       "3                1.200000  ...          NaN          NaN          NaN   \n",
       "4              663.714286  ...          NaN          NaN          NaN   \n",
       "\n",
       "   gaz_1_mon_6  gaz_1_mon_7  gaz_1_mon_8  gaz_1_mon_9  gaz_1_mon_10   \n",
       "0          NaN          NaN          NaN          NaN           NaN  \\\n",
       "1          NaN          NaN          NaN          NaN           NaN   \n",
       "2          NaN          NaN          NaN          NaN           NaN   \n",
       "3          NaN          NaN          NaN          NaN           NaN   \n",
       "4          NaN          NaN          NaN          NaN           NaN   \n",
       "\n",
       "   gaz_1_mon_11  gaz_1_mon_12  \n",
       "0           NaN           NaN  \n",
       "1           NaN           NaN  \n",
       "2           NaN           NaN  \n",
       "3           NaN           NaN  \n",
       "4           NaN           NaN  \n",
       "\n",
       "[5 rows x 134 columns]"
      ]
     },
     "execution_count": 36,
     "metadata": {},
     "output_type": "execute_result"
    }
   ],
   "source": [
    "df = pd.read_csv('data/merged_df_full.csv')\n",
    "df.head()"
   ]
  },
  {
   "cell_type": "code",
   "execution_count": 37,
   "metadata": {},
   "outputs": [
    {
     "name": "stdout",
     "output_type": "stream",
     "text": [
      "<class 'pandas.core.frame.DataFrame'>\n",
      "RangeIndex: 135493 entries, 0 to 135492\n",
      "Data columns (total 12 columns):\n",
      " #   Column        Non-Null Count  Dtype  \n",
      "---  ------        --------------  -----  \n",
      " 0   gaz_1_mon_1   32571 non-null  float64\n",
      " 1   gaz_1_mon_2   33628 non-null  float64\n",
      " 2   gaz_1_mon_3   34069 non-null  float64\n",
      " 3   gaz_1_mon_4   34410 non-null  float64\n",
      " 4   gaz_1_mon_5   37469 non-null  float64\n",
      " 5   gaz_1_mon_6   34682 non-null  float64\n",
      " 6   gaz_1_mon_7   35564 non-null  float64\n",
      " 7   gaz_1_mon_8   32683 non-null  float64\n",
      " 8   gaz_1_mon_9   32606 non-null  float64\n",
      " 9   gaz_1_mon_10  32476 non-null  float64\n",
      " 10  gaz_1_mon_11  34171 non-null  float64\n",
      " 11  gaz_1_mon_12  29705 non-null  float64\n",
      "dtypes: float64(12)\n",
      "memory usage: 12.4 MB\n"
     ]
    }
   ],
   "source": [
    "gas_cols = ['gaz_1_mon_'+str(mon) for mon in range(1,13)] \n",
    "#+ ['gaz_2_mon_'+str(mon) for mon in range(1,13)]\n",
    "df[gas_cols].info()"
   ]
  },
  {
   "cell_type": "markdown",
   "metadata": {},
   "source": [
    "Baseline model"
   ]
  },
  {
   "cell_type": "code",
   "execution_count": 15,
   "metadata": {},
   "outputs": [
    {
     "name": "stderr",
     "output_type": "stream",
     "text": [
      "/var/folders/4d/1242dr3d1kq37hdws_z3wlr00000gn/T/ipykernel_27859/1644681065.py:1: DtypeWarning: Columns (4) have mixed types. Specify dtype option on import or set low_memory=False.\n",
      "  df_invoice = pd.read_csv('data/invoice_train.csv')\n"
     ]
    }
   ],
   "source": [
    "df_invoice = pd.read_csv('data/invoice_train.csv')\n",
    "df_client = pd.read_csv('data/client_train.csv')"
   ]
  },
  {
   "cell_type": "code",
   "execution_count": 2,
   "metadata": {},
   "outputs": [],
   "source": [
    "from sklearn.model_selection import train_test_split \n",
    "\n",
    "def preprocess(df):\n",
    "    df['client_id'] = df.client_id.str.removeprefix('train_Client_').astype(int)\n",
    "    # This renames the columns from consommation to consumption \n",
    "    # for the client_train.csv will do nothing\n",
    "    df.columns = [col.replace('consommation', 'consumption') for col in df.columns]\n",
    "    return df\n",
    "\n",
    "def aggregate_by_client_id(invoice_data, agg_mode='mean'):\n",
    "    aggs = {}\n",
    "    aggs['consumption_level_1'] = [agg_mode]\n",
    "    aggs['consumption_level_2'] = [agg_mode]\n",
    "    aggs['consumption_level_3'] = [agg_mode]\n",
    "    aggs['consumption_level_4'] = [agg_mode]\n",
    "\n",
    "    agg_trans = invoice_data.groupby(['client_id']).agg(aggs)\n",
    "    agg_trans.columns = ['_'.join(col).strip() for col in agg_trans.columns.values]\n",
    "    agg_trans.reset_index(inplace=True)\n",
    "\n",
    "    df = (invoice_data.groupby('client_id')\n",
    "            .size()\n",
    "            .reset_index(name='{}transactions_count'.format('1')))\n",
    "    return pd.merge(df, agg_trans, on='client_id', how='left')\n",
    "\n",
    "def aggregate_and_split(df_invoice, df_client, agg_mode='mean', **kwargs):\n",
    "    df_client = preprocess(df_client)\n",
    "    df_invoice = preprocess(df_invoice)\n",
    "    df_inv_agg = aggregate_by_client_id(df_invoice, agg_mode)\n",
    "    df_full = pd.merge(df_client, df_inv_agg, \n",
    "                       on='client_id', how='left')\n",
    "    target = df_full.pop('target')\n",
    "    X_train, X_test, y_train, y_test = train_test_split(df_full, target, \n",
    "                                                        stratify=target,\n",
    "                                                        random_state=42)\n",
    "\n",
    "    return X_train, X_test, y_train, y_test\n",
    "\n",
    "# Based on the region\n",
    "## There is always fraud in \"bad\" regions\n",
    "def bl_regions(df, out_format='np'):\n",
    "    \"\"\"The model that assumes Everyone in regions == bad_regions\n",
    "    commits fraud\n",
    "\n",
    "    Args:\n",
    "        df: df_client or any other DataFrame that contains the `region`column\n",
    "            and the client_id (for correspondence)\n",
    "        out_format (str, optional): Defaults to 'np' which returns np.array.\n",
    "                                    If anything else, returns a pandas.Series\n",
    "\n",
    "    Returns:\n",
    "        numpy.ndarray or pandas.Series: predictions\n",
    "    \"\"\"    \n",
    "    bad_regions = [103, 106, 311, 372, 313, 371, 379, 304, 107, 104]\n",
    "    X_train, X_test, y_train, y_test = train_test_split(df_client['region'], df_client['target'], \n",
    "                                                        stratify=df_client['target'],\n",
    "                                                        random_state=42)\n",
    "    prediction = X_test.isin(bad_regions).astype(int)\n",
    "    if out_format == 'np':\n",
    "        return prediction.values\n",
    "    else:\n",
    "        return prediction\n",
    "\n",
    "# Based on consumption level\n",
    "\n",
    "## Accounts with higher mean consumption are more likely to commit fraud\n",
    "\n",
    "def bl_consump_std(df_invoice, df_client):\n",
    "\n",
    "    # aggregate and split into train, test features and target\n",
    "    # only the train features important here!\n",
    "    df_full_train, df_full_test, _, _ = aggregate_and_split(\n",
    "        df_invoice, df_client, agg_mode='std') # change the aggregation mode!\n",
    "    \n",
    "    df_full_test['consumption_total_std'] = df_full_test[\n",
    "    ['consumption_level_1_std', 'consumption_level_2_std', \n",
    "     'consumption_level_3_std', 'consumption_level_4_std']].sum(axis=1)\n",
    "    median = df_full_test['consumption_total_std'].median()\n",
    "    prediction = (df_full_test['consumption_total_std'] > median).astype(int)#\n",
    "    #prediction.rename('pred_by_mean_cons', inplace=True)\n",
    "    return prediction.values\n"
   ]
  },
  {
   "cell_type": "code",
   "execution_count": 19,
   "metadata": {},
   "outputs": [],
   "source": [
    "pred_cons = bl_consump_std(df_invoice, df_client)"
   ]
  },
  {
   "cell_type": "code",
   "execution_count": 22,
   "metadata": {},
   "outputs": [],
   "source": [
    "pred_reg = bl_regions(df_client)"
   ]
  },
  {
   "cell_type": "code",
   "execution_count": 26,
   "metadata": {},
   "outputs": [],
   "source": [
    "pred_bl = pred_reg & pred_cons"
   ]
  },
  {
   "cell_type": "code",
   "execution_count": 27,
   "metadata": {},
   "outputs": [],
   "source": [
    "X_train, X_test, y_train, y_test = train_test_split(df_client['region'], df_client['target'], \n",
    "                                                        stratify=df_client['target'],\n",
    "                                                        random_state=42)"
   ]
  },
  {
   "cell_type": "code",
   "execution_count": 30,
   "metadata": {},
   "outputs": [],
   "source": [
    "from sklearn.metrics import f1_score, confusion_matrix"
   ]
  },
  {
   "cell_type": "code",
   "execution_count": 32,
   "metadata": {},
   "outputs": [
    {
     "name": "stdout",
     "output_type": "stream",
     "text": [
      "f1_score: 0.16\n"
     ]
    }
   ],
   "source": [
    "print(\"f1_score: {:.2f}\".format(f1_score(y_test, pred_bl, average='weighted')))"
   ]
  },
  {
   "cell_type": "code",
   "execution_count": 33,
   "metadata": {},
   "outputs": [],
   "source": [
    "from example_files.eval_metrics_katja import *"
   ]
  },
  {
   "cell_type": "code",
   "execution_count": 34,
   "metadata": {},
   "outputs": [
    {
     "name": "stdout",
     "output_type": "stream",
     "text": [
      "                Classification Report:\n",
      "--------------------------------------------------\n",
      "              precision    recall  f1-score   support\n",
      "\n",
      "         0.0       0.96      0.80      0.87     31982\n",
      "         1.0       0.10      0.38      0.16      1892\n",
      "\n",
      "    accuracy                           0.77     33874\n",
      "   macro avg       0.53      0.59      0.51     33874\n",
      "weighted avg       0.91      0.77      0.83     33874\n",
      "\n"
     ]
    }
   ],
   "source": [
    "display_classification_report(y_test, pred_bl)"
   ]
  },
  {
   "cell_type": "code",
   "execution_count": 35,
   "metadata": {},
   "outputs": [
    {
     "data": {
      "image/png": "[encoded data removed]",
      "text/plain": [
       "<Figure size 450x400 with 2 Axes>"
      ]
     },
     "metadata": {},
     "output_type": "display_data"
    }
   ],
   "source": [
    "conf_matrix_display(y_test, pred_bl)"
   ]
  },
  {
   "cell_type": "markdown",
   "metadata": {},
   "source": [
    "Trained models"
   ]
  },
  {
   "cell_type": "markdown",
   "metadata": {},
   "source": [
    "-----"
   ]
  },
  {
   "cell_type": "markdown",
   "metadata": {},
   "source": [
    "# Plots for the slides"
   ]
  },
  {
   "cell_type": "code",
   "execution_count": 36,
   "metadata": {},
   "outputs": [],
   "source": [
    "model_types = ['Baseline', 'KNN', 'Decision Tree',  'XGBoost', 'Random Forest']\n",
    "bm = 0.83\n",
    "rf = 0.92\n",
    "knn = 0.91\n",
    "dt = 0.90\n",
    "xgb = 0.93\n",
    "f1_weighted = [bm, knn, dt, xgb, rf]\n",
    "bm_normal = 0.16\n",
    "rf_normal = 0.06\n",
    "knn_normal = 0.09\n",
    "dt_normal = 0.12\n",
    "xgb_normal = 0.18\n",
    "f1_normal = [bm_normal, knn_normal, dt_normal, xgb_normal, rf_normal]"
   ]
  },
  {
   "cell_type": "code",
   "execution_count": 53,
   "metadata": {},
   "outputs": [],
   "source": [
    "msumm = pd.DataFrame(index=model_types, \n",
    "                     data={'f1_weighted': f1_weighted, 'f1': f1_normal})"
   ]
  },
  {
   "cell_type": "code",
   "execution_count": 54,
   "metadata": {},
   "outputs": [
    {
     "data": {
      "text/html": [
       "<div>\n",
       "<style scoped>\n",
       "    .dataframe tbody tr th:only-of-type {\n",
       "        vertical-align: middle;\n",
       "    }\n",
       "\n",
       "    .dataframe tbody tr th {\n",
       "        vertical-align: top;\n",
       "    }\n",
       "\n",
       "    .dataframe thead th {\n",
       "        text-align: right;\n",
       "    }\n",
       "</style>\n",
       "<table border=\"1\" class=\"dataframe\">\n",
       "  <thead>\n",
       "    <tr style=\"text-align: right;\">\n",
       "      <th></th>\n",
       "      <th>f1_weighted</th>\n",
       "      <th>f1</th>\n",
       "    </tr>\n",
       "  </thead>\n",
       "  <tbody>\n",
       "    <tr>\n",
       "      <th>Baseline</th>\n",
       "      <td>0.83</td>\n",
       "      <td>0.16</td>\n",
       "    </tr>\n",
       "    <tr>\n",
       "      <th>KNN</th>\n",
       "      <td>0.91</td>\n",
       "      <td>0.09</td>\n",
       "    </tr>\n",
       "    <tr>\n",
       "      <th>Decision Tree</th>\n",
       "      <td>0.90</td>\n",
       "      <td>0.12</td>\n",
       "    </tr>\n",
       "    <tr>\n",
       "      <th>XGBoost</th>\n",
       "      <td>0.93</td>\n",
       "      <td>0.18</td>\n",
       "    </tr>\n",
       "    <tr>\n",
       "      <th>Random Forest</th>\n",
       "      <td>0.92</td>\n",
       "      <td>0.06</td>\n",
       "    </tr>\n",
       "  </tbody>\n",
       "</table>\n",
       "</div>"
      ],
      "text/plain": [
       "               f1_weighted    f1\n",
       "Baseline              0.83  0.16\n",
       "KNN                   0.91  0.09\n",
       "Decision Tree         0.90  0.12\n",
       "XGBoost               0.93  0.18\n",
       "Random Forest         0.92  0.06"
      ]
     },
     "execution_count": 54,
     "metadata": {},
     "output_type": "execute_result"
    }
   ],
   "source": [
    "msumm"
   ]
  },
  {
   "cell_type": "code",
   "execution_count": 55,
   "metadata": {},
   "outputs": [
    {
     "data": {
      "image/png": "[encoded data removed]",
      "text/plain": [
       "<Figure size 640x480 with 1 Axes>"
      ]
     },
     "metadata": {},
     "output_type": "display_data"
    }
   ],
   "source": [
    "msumm.sort_values('f1_weighted').plot(kind='barh', colormap='coolwarm')\n",
    "plt.xlim(0,1);\n",
    "plt.ylim(-0.5,5);"
   ]
  },
  {
   "cell_type": "markdown",
   "metadata": {},
   "source": [
    "##"
   ]
  },
  {
   "cell_type": "markdown",
   "metadata": {},
   "source": []
  }
 ],
 "metadata": {
  "kernelspec": {
   "display_name": ".venv",
   "language": "python",
   "name": "python3"
  },
  "language_info": {
   "codemirror_mode": {
    "name": "ipython",
    "version": 3
   },
   "file_extension": ".py",
   "mimetype": "text/x-python",
   "name": "python",
   "nbconvert_exporter": "python",
   "pygments_lexer": "ipython3",
   "version": "3.11.3"
  }
 },
 "nbformat": 4,
 "nbformat_minor": 2
}
